{
 "cells": [
  {
   "cell_type": "markdown",
   "metadata": {},
   "source": [
    "**1**. (20 points)\n",
    "\n",
    "Consider the linear transformation $f(x)$ on $\\mathbb{R}^3$ that takes the standard basis $\\left\\{e_1,e_2,e_3\\right\\}$ to $\\left\\{v_1,v_2,v_3\\right\\}$ where\n",
    "\n",
    "$$v_1=\\left(\\begin{matrix}10\\\\-10\\\\16\\end{matrix}\\right), v_2=\\left(\\begin{matrix}2\\\\-5\\\\20\\end{matrix}\\right) \\textrm {and } v_3=\\left(\\begin{matrix}1\\\\-4\\\\13\\end{matrix}\\right)$$\n",
    "\n",
    "1. Write a matrix $A$ that represents the same linear transformation. (4 points)\n",
    "\n",
    "2. Compute the rank of $A$ using two different methods (do not use `matrix_rank`!). (4 points)\n",
    "\n",
    "3. Find the eigenvalues and eigenvectors of $A$. (4 points)\n",
    "\n",
    "4. What is the matrix representation of $f$ with respect to the eigenbasis? (8 points)"
   ]
  },
  {
   "cell_type": "code",
   "execution_count": 2,
   "metadata": {},
   "outputs": [
    {
     "data": {
      "text/plain": [
       "array([[ 10,   2,   1],\n",
       "       [-10,  -5,  -4],\n",
       "       [ 16,  20,  13]])"
      ]
     },
     "execution_count": 2,
     "metadata": {},
     "output_type": "execute_result"
    }
   ],
   "source": [
    "import numpy as np\n",
    "import scipy.linalg as la\n",
    "#Question 1\n",
    "A = np.array([[10,2,1],[-10,-5,-4],[16,20,13]])\n",
    "A"
   ]
  },
  {
   "cell_type": "code",
   "execution_count": 3,
   "metadata": {},
   "outputs": [
    {
     "data": {
      "text/plain": [
       "3"
      ]
     },
     "execution_count": 3,
     "metadata": {},
     "output_type": "execute_result"
    }
   ],
   "source": [
    "#Question 2 method 1\n",
    "l,v = la.eig(A)\n",
    "len(l[l!=0])"
   ]
  },
  {
   "cell_type": "code",
   "execution_count": 22,
   "metadata": {},
   "outputs": [
    {
     "data": {
      "text/plain": [
       "162.0"
      ]
     },
     "execution_count": 22,
     "metadata": {},
     "output_type": "execute_result"
    }
   ],
   "source": [
    "#method 2\n",
    "la.det(A)\n",
    "#Since determinant not equals 0, A is a on-singular matrix and rank =3"
   ]
  },
  {
   "cell_type": "code",
   "execution_count": 4,
   "metadata": {},
   "outputs": [
    {
     "data": {
      "text/plain": [
       "3"
      ]
     },
     "execution_count": 4,
     "metadata": {},
     "output_type": "execute_result"
    }
   ],
   "source": [
    "#methon 3\n",
    "I = np.eye(3)\n",
    "x,res,rank,s = la.lstsq(I,A)\n",
    "rank"
   ]
  },
  {
   "cell_type": "code",
   "execution_count": 5,
   "metadata": {},
   "outputs": [
    {
     "data": {
      "text/plain": [
       "Matrix([\n",
       "[1, 0, 0],\n",
       "[0, 1, 0],\n",
       "[0, 0, 1]])"
      ]
     },
     "execution_count": 5,
     "metadata": {},
     "output_type": "execute_result"
    }
   ],
   "source": [
    "#method 4:rref\n",
    "from sympy import *\n",
    "MA = Matrix([[10,2,1],[-10,-5,-4],[16,20,13]])\n",
    "rref_a,pivot= MA.rref()\n",
    "rref_a\n",
    "#rank(A)=3"
   ]
  },
  {
   "cell_type": "code",
   "execution_count": 6,
   "metadata": {},
   "outputs": [
    {
     "name": "stdout",
     "output_type": "stream",
     "text": [
      "eigenvalues:\n",
      "[ 9.  3.  6.]\n",
      "eigenvectors:\n",
      "[[ 0.57735027  0.         -0.12038585]\n",
      " [-0.57735027 -0.4472136  -0.24077171]\n",
      " [ 0.57735027  0.89442719  0.96308682]]\n"
     ]
    }
   ],
   "source": [
    "#Question 3\n",
    "eigenvalues,eigenvectors=la.eig(A)\n",
    "eigenvalues = np.real_if_close(eigenvalues)\n",
    "print('eigenvalues:')\n",
    "print(eigenvalues)\n",
    "print('eigenvectors:')\n",
    "print(eigenvectors)"
   ]
  },
  {
   "cell_type": "code",
   "execution_count": 7,
   "metadata": {},
   "outputs": [
    {
     "data": {
      "text/plain": [
       "array([[ 9.,  0.,  0.],\n",
       "       [ 0.,  3.,  0.],\n",
       "       [ 0.,  0.,  6.]])"
      ]
     },
     "execution_count": 7,
     "metadata": {},
     "output_type": "execute_result"
    }
   ],
   "source": [
    "#Question 4\n",
    "#eigenvalue的diagonal或eigenvectors的转换\n",
    "ans=np.diag(la.eig(A)[0])\n",
    "ans = np.real_if_close(ans)\n",
    "ans"
   ]
  },
  {
   "cell_type": "markdown",
   "metadata": {},
   "source": [
    "**2**. (20 points)\n",
    "\n",
    "You are given the following x-y coordinates (first column is x, second is y)\n",
    "\n",
    "```\n",
    "array([[  0.        ,   4.12306991],\n",
    "       [  3.        , -15.47355729],\n",
    "       [  4.        , -11.68725507],\n",
    "       [  3.        , -20.33756693],\n",
    "       [  5.        ,  -6.06401989],\n",
    "       [  6.        ,  32.79353057],\n",
    "       [  8.        ,  82.48658405],\n",
    "       [  9.        ,  84.02971858],\n",
    "       [  4.        ,  -1.30587276],\n",
    "       [  8.        ,  68.59409878]])\n",
    "```\n",
    "\n",
    "- Find the coefficients $(a, b, c)$ of the least-squares fit of a quadratic function $y = a + bx + cx^2$ to the data. \n",
    "- Plot the data and fitted curve using `matplotlib`.\n",
    "\n",
    "Note: Use `numpy.linalg.leastsq` function to solve this."
   ]
  },
  {
   "cell_type": "code",
   "execution_count": 11,
   "metadata": {},
   "outputs": [
    {
     "name": "stdout",
     "output_type": "stream",
     "text": [
      "a= -0.357628957528\n",
      "b= -11.7853123187\n",
      "c= 2.53125198581\n"
     ]
    }
   ],
   "source": [
    "coordinates = np.array(\n",
    "    [[  0.        ,   4.12306991],\n",
    "       [  3.        , -15.47355729],\n",
    "       [  4.        , -11.68725507],\n",
    "       [  3.        , -20.33756693],\n",
    "       [  5.        ,  -6.06401989],\n",
    "       [  6.        ,  32.79353057],\n",
    "       [  8.        ,  82.48658405],\n",
    "       [  9.        ,  84.02971858],\n",
    "       [  4.        ,  -1.30587276],\n",
    "       [  8.        ,  68.59409878]])\n",
    "y = coordinates[:,1].reshape(-1,1)\n",
    "x = coordinates[:,0].reshape(-1,1)\n",
    "x_square = x*x\n",
    "X = np.column_stack((x,x_square))\n",
    "final_x = np.column_stack((np.ones(x.shape[0]).reshape(-1,1),X))\n",
    "#final_x\n",
    "coefficient, res, rank, s, = np.linalg.lstsq(final_x,y,rcond=None)\n",
    "#if the 'coefficient command above cannot work, please try the code below. Since these two codes works differently on my own laptop and vm.Thanks a lot.'\n",
    "#coefficient, res, rank, s, = np.linalg.lstsq(final_x,y)\n",
    "print('a=',coefficient[0][0])\n",
    "print('b=',coefficient[1][0])\n",
    "print('c=',coefficient[2][0])"
   ]
  },
  {
   "cell_type": "code",
   "execution_count": 12,
   "metadata": {},
   "outputs": [
    {
     "data": {
      "image/png": "[encoded data removed]",
      "text/plain": [
       "<matplotlib.figure.Figure at 0x10d7ca3c8>"
      ]
     },
     "metadata": {},
     "output_type": "display_data"
    }
   ],
   "source": [
    "import matplotlib.pyplot as plt\n",
    "def func(x,coefficient):\n",
    "    a = coefficient[0][0]\n",
    "    b = coefficient[1][0]\n",
    "    c = coefficient[2][0]\n",
    "    return a+b*x+c*x*x\n",
    "\n",
    "plot_x = np.linspace(0,10,50)\n",
    "plot_y = func(plot_x,coefficient)\n",
    "plt.plot(x, y, 'o', label='Original data', markersize=5)\n",
    "plt.plot(plot_x, plot_y, 'r', label='Fitted line')\n",
    "plt.legend()\n",
    "plt.show()"
   ]
  },
  {
   "cell_type": "markdown",
   "metadata": {},
   "source": [
    "**3**. (20 points)\n",
    "\n",
    "Consider the following system of equations:\n",
    "\n",
    "$$\\begin{align*}\n",
    "2x_1& - x_2&    +x_x    &=& 6\\\\\n",
    "-x_1& +2x_2& -  x_3 &=& 2\\\\\n",
    " x_1   &  -x_2& + x_3 &=& 1\n",
    "\\end{align*}$$\n",
    "\n",
    "1. Consider the system in matrix form $Ax=b$ and define $A$, $b$ in numpy.\n",
    "2. Show that $A$ is positive-definite\n",
    "3. Use the appropriate matrix decomposition function in numpy and back-substitution to solve the system. Remember to use the structure of the problem to determine the appropriate decomposition.\n",
    "\n",
    "\n"
   ]
  },
  {
   "cell_type": "code",
   "execution_count": 13,
   "metadata": {},
   "outputs": [
    {
     "name": "stdout",
     "output_type": "stream",
     "text": [
      "A:\n",
      "[[ 2 -1  1]\n",
      " [-1  2 -1]\n",
      " [ 1 -1  1]]\n",
      "b: \n",
      "[[6]\n",
      " [2]\n",
      " [1]]\n"
     ]
    }
   ],
   "source": [
    "#define A,b\n",
    "A = np.array(\n",
    "            [[2,-1,1],\n",
    "             [-1,2,-1],\n",
    "            [1,-1,1]])\n",
    "b = np.array([6,2,1]).reshape(-1,1)\n",
    "print('A:')\n",
    "print(A)\n",
    "print('b: ')\n",
    "print(b)"
   ]
  },
  {
   "cell_type": "code",
   "execution_count": 15,
   "metadata": {},
   "outputs": [
    {
     "data": {
      "text/plain": [
       "array([ 3.73205081+0.j,  1.00000000+0.j,  0.26794919+0.j])"
      ]
     },
     "execution_count": 15,
     "metadata": {},
     "output_type": "execute_result"
    }
   ],
   "source": [
    "#eigen value are all positive, the matrix is positive-definite\n",
    "value,vextor = la.eig(A)\n",
    "value"
   ]
  },
  {
   "cell_type": "code",
   "execution_count": 33,
   "metadata": {},
   "outputs": [
    {
     "data": {
      "text/plain": [
       "array([[ 1.41421356, -0.70710678,  0.70710678],\n",
       "       [ 0.        ,  1.22474487, -0.40824829],\n",
       "       [ 0.        ,  0.        ,  0.57735027]])"
      ]
     },
     "execution_count": 33,
     "metadata": {},
     "output_type": "execute_result"
    }
   ],
   "source": [
    "#Since A is a positive definite and symmetric matrix, u^TAu>0 and A=A^T ,it is appropriate to use cholesky decomposition \n",
    "C = la.cholesky(A)\n",
    "C"
   ]
  },
  {
   "cell_type": "code",
   "execution_count": 34,
   "metadata": {},
   "outputs": [
    {
     "data": {
      "text/plain": [
       "array([[ 5.],\n",
       "       [ 3.],\n",
       "       [-1.]])"
      ]
     },
     "execution_count": 34,
     "metadata": {},
     "output_type": "execute_result"
    }
   ],
   "source": [
    "C1 = la.cho_factor(A)\n",
    "la.cho_solve(C1, b)"
   ]
  },
  {
   "cell_type": "markdown",
   "metadata": {},
   "source": [
    "**4**. (40 points)\n",
    "\n",
    "You are given the following set of data to fit a quadratic polynomial to\n",
    "\n",
    "```python\n",
    "x = np.arange(10)\n",
    "y = np.array([  1.58873597,   7.55101533,  10.71372171,   7.90123225,\n",
    "                -2.05877605, -12.40257359, -28.64568712, -46.39822281,\n",
    "                -68.15488905, -97.16032044])\n",
    "```\n",
    "\n",
    "- Find the least squares solution by using the normal equations $A^T A \\hat{x} = A^T y$. (5 points)\n",
    "\n",
    "- Write your own **gradient descent** optimization function to find the least squares solution for the coefficients $\\beta$ of a quadratic polynomial. Do **not** use a gradient descent algorithm from a package such as `scipy-optimize` or `scikit-learn`.  You can use a simple for loop - start with the parameters `beta = np.zeros(3)` with a learning rate $\\alpha = 0.0001$ and run for 100000 iterations. (15 points)\n",
    "\n",
    "- Plot the data together with the fitted polynomial. (10 points)\n",
    "\n"
   ]
  },
  {
   "cell_type": "code",
   "execution_count": 236,
   "metadata": {},
   "outputs": [
    {
     "data": {
      "text/plain": [
       "array([[ 2.55079998],\n",
       "       [ 7.31478229],\n",
       "       [-2.04118936]])"
      ]
     },
     "execution_count": 236,
     "metadata": {},
     "output_type": "execute_result"
    }
   ],
   "source": [
    "#normal equation\n",
    "x = np.arange(10)\n",
    "y = np.array([  1.58873597,   7.55101533,  10.71372171,   7.90123225,\n",
    "                -2.05877605, -12.40257359, -28.64568712, -46.39822281,\n",
    "                -68.15488905, -97.16032044])\n",
    "y = y.reshape(-1,1)\n",
    "x = x.reshape(-1,1)\n",
    "x_square = x*x\n",
    "X = np.column_stack((x,x_square))\n",
    "X = np.column_stack((np.ones(x.shape[0]).reshape(-1,1),X))\n",
    "la.solve(X.T@X, X.T@y)"
   ]
  },
  {
   "cell_type": "code",
   "execution_count": 237,
   "metadata": {},
   "outputs": [
    {
     "data": {
      "text/plain": [
       "array([[ 2.73393241],\n",
       "       [ 7.23151702],\n",
       "       [-2.03359595]])"
      ]
     },
     "execution_count": 237,
     "metadata": {},
     "output_type": "execute_result"
    }
   ],
   "source": [
    "#gradient descent\n",
    "def gradientDescent(β,X,y,learning_rate,iters,m):\n",
    "    for i in range(iters):\n",
    "        y_model = X@β #fitted y\n",
    "        error = y_model-y\n",
    "        gradient = np.dot(X.T,error)/m\n",
    "        β -= gradient*learning_rate\n",
    "    return β\n",
    "\n",
    "β = np.zeros(3).reshape(-1,1)\n",
    "m = 10 #obs\n",
    "learning_rate = 0.0001\n",
    "iters = 100000\n",
    "coeff = gradientDescent(β,X,y,learning_rate,iters,m)\n",
    "coeff"
   ]
  },
  {
   "cell_type": "code",
   "execution_count": 238,
   "metadata": {},
   "outputs": [
    {
     "data": {
      "image/png": "[encoded data removed]",
      "text/plain": [
       "<Figure size 432x288 with 1 Axes>"
      ]
     },
     "metadata": {},
     "output_type": "display_data"
    }
   ],
   "source": [
    "plt.scatter(x,y,label='Original data')\n",
    "plt.plot(x, coeff[1]*x + coeff[2]*x**2 + coeff[0], 'r', label='Fitted line')\n",
    "plt.legend()\n",
    "plt.show()"
   ]
  }
 ],
 "metadata": {
  "kernelspec": {
   "display_name": "Python 3",
   "language": "python",
   "name": "python3"
  },
  "language_info": {
   "codemirror_mode": {
    "name": "ipython",
    "version": 3
   },
   "file_extension": ".py",
   "mimetype": "text/x-python",
   "name": "python",
   "nbconvert_exporter": "python",
   "pygments_lexer": "ipython3",
   "version": "3.6.1"
  }
 },
 "nbformat": 4,
 "nbformat_minor": 2
}
