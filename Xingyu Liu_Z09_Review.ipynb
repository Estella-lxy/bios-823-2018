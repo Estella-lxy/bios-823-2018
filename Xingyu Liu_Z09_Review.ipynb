{
 "cells": [
  {
   "cell_type": "markdown",
   "metadata": {},
   "source": [
    "# Assignment 10: Review\n",
    "\n",
    "We will review material covered so far in this course with short questions similar to what you might expect on the Final Exam. \n",
    "\n",
    "First review the lecture notes. Then try to do this assignment without referring to ANY external material to simulate exam conditions."
   ]
  },
  {
   "cell_type": "markdown",
   "metadata": {},
   "source": [
    "Setup for Q1"
   ]
  },
  {
   "cell_type": "code",
   "execution_count": 1,
   "metadata": {},
   "outputs": [],
   "source": [
    "%load_ext sql"
   ]
  },
  {
   "cell_type": "code",
   "execution_count": 2,
   "metadata": {},
   "outputs": [],
   "source": [
    "import pandas as pd\n",
    "import numpy as np"
   ]
  },
  {
   "cell_type": "code",
   "execution_count": 3,
   "metadata": {},
   "outputs": [],
   "source": [
    "from collections import OrderedDict"
   ]
  },
  {
   "cell_type": "code",
   "execution_count": 4,
   "metadata": {},
   "outputs": [],
   "source": [
    "pid = ['a', 'c', 'a', 'b', 'c', 'a', 'c', 'c', 'a', 'a', 'b', 'b']\n",
    "visit = [1, 1, 2, 1, 2, 3, 3, 4, 4, 5, 2, 3]\n",
    "n = len(pid)\n",
    "\n",
    "readings = pd.DataFrame(OrderedDict(pid=pid, visit=visit, sbp=np.random.normal(120, 25, n)))\n",
    "readings['dbp'] = readings.sbp - np.random.normal(40, 10, n)"
   ]
  },
  {
   "cell_type": "code",
   "execution_count": 5,
   "metadata": {},
   "outputs": [],
   "source": [
    "readings[['sbp', 'dbp']] = readings[['sbp', 'dbp']].astype('int')"
   ]
  },
  {
   "cell_type": "code",
   "execution_count": 6,
   "metadata": {},
   "outputs": [],
   "source": [
    "patients = pd.DataFrame(OrderedDict(pid=['a', 'b', 'c', 'd'], ages=[23,34,45,56]))"
   ]
  },
  {
   "cell_type": "code",
   "execution_count": 7,
   "metadata": {},
   "outputs": [
    {
     "data": {
      "text/plain": [
       "'Connected: @tables.db'"
      ]
     },
     "execution_count": 7,
     "metadata": {},
     "output_type": "execute_result"
    }
   ],
   "source": [
    "%sql sqlite:///tables.db"
   ]
  },
  {
   "cell_type": "code",
   "execution_count": 8,
   "metadata": {},
   "outputs": [
    {
     "name": "stdout",
     "output_type": "stream",
     "text": [
      " * sqlite:///tables.db\n",
      "Done.\n",
      " * sqlite:///tables.db\n"
     ]
    },
    {
     "data": {
      "text/plain": [
       "'Persisted patients'"
      ]
     },
     "execution_count": 8,
     "metadata": {},
     "output_type": "execute_result"
    }
   ],
   "source": [
    "%sql drop table patients\n",
    "%sql persist patients"
   ]
  },
  {
   "cell_type": "code",
   "execution_count": 9,
   "metadata": {},
   "outputs": [
    {
     "name": "stdout",
     "output_type": "stream",
     "text": [
      " * sqlite:///tables.db\n",
      "Done.\n",
      " * sqlite:///tables.db\n"
     ]
    },
    {
     "data": {
      "text/plain": [
       "'Persisted readings'"
      ]
     },
     "execution_count": 9,
     "metadata": {},
     "output_type": "execute_result"
    }
   ],
   "source": [
    "%sql drop table readings\n",
    "%sql persist readings"
   ]
  },
  {
   "cell_type": "code",
   "execution_count": 10,
   "metadata": {},
   "outputs": [
    {
     "name": "stdout",
     "output_type": "stream",
     "text": [
      " * sqlite:///tables.db\n",
      "Done.\n"
     ]
    },
    {
     "data": {
      "text/html": [
       "<table>\n",
       "    <tr>\n",
       "        <th>index</th>\n",
       "        <th>pid</th>\n",
       "        <th>ages</th>\n",
       "    </tr>\n",
       "    <tr>\n",
       "        <td>0</td>\n",
       "        <td>a</td>\n",
       "        <td>23</td>\n",
       "    </tr>\n",
       "    <tr>\n",
       "        <td>1</td>\n",
       "        <td>b</td>\n",
       "        <td>34</td>\n",
       "    </tr>\n",
       "    <tr>\n",
       "        <td>2</td>\n",
       "        <td>c</td>\n",
       "        <td>45</td>\n",
       "    </tr>\n",
       "    <tr>\n",
       "        <td>3</td>\n",
       "        <td>d</td>\n",
       "        <td>56</td>\n",
       "    </tr>\n",
       "</table>"
      ],
      "text/plain": [
       "[(0, 'a', 23), (1, 'b', 34), (2, 'c', 45), (3, 'd', 56)]"
      ]
     },
     "execution_count": 10,
     "metadata": {},
     "output_type": "execute_result"
    }
   ],
   "source": [
    "%%sql\n",
    "\n",
    "select * from patients"
   ]
  },
  {
   "cell_type": "code",
   "execution_count": 11,
   "metadata": {},
   "outputs": [
    {
     "name": "stdout",
     "output_type": "stream",
     "text": [
      " * sqlite:///tables.db\n",
      "Done.\n"
     ]
    },
    {
     "data": {
      "text/html": [
       "<table>\n",
       "    <tr>\n",
       "        <th>index</th>\n",
       "        <th>pid</th>\n",
       "        <th>sbp</th>\n",
       "        <th>visit</th>\n",
       "        <th>dbp</th>\n",
       "    </tr>\n",
       "    <tr>\n",
       "        <td>0</td>\n",
       "        <td>a</td>\n",
       "        <td>164</td>\n",
       "        <td>1</td>\n",
       "        <td>129</td>\n",
       "    </tr>\n",
       "    <tr>\n",
       "        <td>1</td>\n",
       "        <td>c</td>\n",
       "        <td>134</td>\n",
       "        <td>1</td>\n",
       "        <td>112</td>\n",
       "    </tr>\n",
       "    <tr>\n",
       "        <td>2</td>\n",
       "        <td>a</td>\n",
       "        <td>135</td>\n",
       "        <td>2</td>\n",
       "        <td>98</td>\n",
       "    </tr>\n",
       "    <tr>\n",
       "        <td>3</td>\n",
       "        <td>b</td>\n",
       "        <td>118</td>\n",
       "        <td>1</td>\n",
       "        <td>74</td>\n",
       "    </tr>\n",
       "    <tr>\n",
       "        <td>4</td>\n",
       "        <td>c</td>\n",
       "        <td>115</td>\n",
       "        <td>2</td>\n",
       "        <td>62</td>\n",
       "    </tr>\n",
       "    <tr>\n",
       "        <td>5</td>\n",
       "        <td>a</td>\n",
       "        <td>96</td>\n",
       "        <td>3</td>\n",
       "        <td>65</td>\n",
       "    </tr>\n",
       "    <tr>\n",
       "        <td>6</td>\n",
       "        <td>c</td>\n",
       "        <td>169</td>\n",
       "        <td>3</td>\n",
       "        <td>128</td>\n",
       "    </tr>\n",
       "    <tr>\n",
       "        <td>7</td>\n",
       "        <td>c</td>\n",
       "        <td>117</td>\n",
       "        <td>4</td>\n",
       "        <td>74</td>\n",
       "    </tr>\n",
       "    <tr>\n",
       "        <td>8</td>\n",
       "        <td>a</td>\n",
       "        <td>87</td>\n",
       "        <td>4</td>\n",
       "        <td>39</td>\n",
       "    </tr>\n",
       "    <tr>\n",
       "        <td>9</td>\n",
       "        <td>a</td>\n",
       "        <td>119</td>\n",
       "        <td>5</td>\n",
       "        <td>94</td>\n",
       "    </tr>\n",
       "    <tr>\n",
       "        <td>10</td>\n",
       "        <td>b</td>\n",
       "        <td>126</td>\n",
       "        <td>2</td>\n",
       "        <td>72</td>\n",
       "    </tr>\n",
       "    <tr>\n",
       "        <td>11</td>\n",
       "        <td>b</td>\n",
       "        <td>107</td>\n",
       "        <td>3</td>\n",
       "        <td>64</td>\n",
       "    </tr>\n",
       "</table>"
      ],
      "text/plain": [
       "[(0, 'a', 164, 1, 129),\n",
       " (1, 'c', 134, 1, 112),\n",
       " (2, 'a', 135, 2, 98),\n",
       " (3, 'b', 118, 1, 74),\n",
       " (4, 'c', 115, 2, 62),\n",
       " (5, 'a', 96, 3, 65),\n",
       " (6, 'c', 169, 3, 128),\n",
       " (7, 'c', 117, 4, 74),\n",
       " (8, 'a', 87, 4, 39),\n",
       " (9, 'a', 119, 5, 94),\n",
       " (10, 'b', 126, 2, 72),\n",
       " (11, 'b', 107, 3, 64)]"
      ]
     },
     "execution_count": 11,
     "metadata": {},
     "output_type": "execute_result"
    }
   ],
   "source": [
    "%%sql \n",
    "\n",
    "select * from readings"
   ]
  },
  {
   "cell_type": "markdown",
   "metadata": {},
   "source": [
    "**1**. (20 points)\n",
    "\n",
    "- Write an SQL statement to merge the patient and pressure tables using an inner join\n",
    "- Write an SQL statement to find the average systolic (sbp) and diastolic (dbp) blood pressure for each patient, sorted in ascending order of sbp. The function to calculate averages in SQL is AVG.\n",
    "- (optional - ungraded) Write an SQL statement to find the running average of systolic blood pressure for each patient across successive visits. Show the following columns pid, visit, sbp and running average of sbp. (NOTE: This will no work unless you have the version 3.2.5 or higher of SQLite3 or swithc to a database like PostgreSQL - in particular, it will not work on Docker. Just write the SQL even if it does not execute.)"
   ]
  },
  {
   "cell_type": "code",
   "execution_count": 12,
   "metadata": {},
   "outputs": [
    {
     "name": "stdout",
     "output_type": "stream",
     "text": [
      " * sqlite:///tables.db\n",
      "Done.\n"
     ]
    },
    {
     "data": {
      "text/html": [
       "<table>\n",
       "    <tr>\n",
       "        <th>index</th>\n",
       "        <th>pid</th>\n",
       "        <th>ages</th>\n",
       "        <th>index_1</th>\n",
       "        <th>pid_1</th>\n",
       "        <th>sbp</th>\n",
       "        <th>visit</th>\n",
       "        <th>dbp</th>\n",
       "    </tr>\n",
       "    <tr>\n",
       "        <td>0</td>\n",
       "        <td>a</td>\n",
       "        <td>23</td>\n",
       "        <td>0</td>\n",
       "        <td>a</td>\n",
       "        <td>164</td>\n",
       "        <td>1</td>\n",
       "        <td>129</td>\n",
       "    </tr>\n",
       "    <tr>\n",
       "        <td>0</td>\n",
       "        <td>a</td>\n",
       "        <td>23</td>\n",
       "        <td>2</td>\n",
       "        <td>a</td>\n",
       "        <td>135</td>\n",
       "        <td>2</td>\n",
       "        <td>98</td>\n",
       "    </tr>\n",
       "    <tr>\n",
       "        <td>0</td>\n",
       "        <td>a</td>\n",
       "        <td>23</td>\n",
       "        <td>5</td>\n",
       "        <td>a</td>\n",
       "        <td>96</td>\n",
       "        <td>3</td>\n",
       "        <td>65</td>\n",
       "    </tr>\n",
       "    <tr>\n",
       "        <td>0</td>\n",
       "        <td>a</td>\n",
       "        <td>23</td>\n",
       "        <td>8</td>\n",
       "        <td>a</td>\n",
       "        <td>87</td>\n",
       "        <td>4</td>\n",
       "        <td>39</td>\n",
       "    </tr>\n",
       "    <tr>\n",
       "        <td>0</td>\n",
       "        <td>a</td>\n",
       "        <td>23</td>\n",
       "        <td>9</td>\n",
       "        <td>a</td>\n",
       "        <td>119</td>\n",
       "        <td>5</td>\n",
       "        <td>94</td>\n",
       "    </tr>\n",
       "    <tr>\n",
       "        <td>1</td>\n",
       "        <td>b</td>\n",
       "        <td>34</td>\n",
       "        <td>3</td>\n",
       "        <td>b</td>\n",
       "        <td>118</td>\n",
       "        <td>1</td>\n",
       "        <td>74</td>\n",
       "    </tr>\n",
       "    <tr>\n",
       "        <td>1</td>\n",
       "        <td>b</td>\n",
       "        <td>34</td>\n",
       "        <td>10</td>\n",
       "        <td>b</td>\n",
       "        <td>126</td>\n",
       "        <td>2</td>\n",
       "        <td>72</td>\n",
       "    </tr>\n",
       "    <tr>\n",
       "        <td>1</td>\n",
       "        <td>b</td>\n",
       "        <td>34</td>\n",
       "        <td>11</td>\n",
       "        <td>b</td>\n",
       "        <td>107</td>\n",
       "        <td>3</td>\n",
       "        <td>64</td>\n",
       "    </tr>\n",
       "    <tr>\n",
       "        <td>2</td>\n",
       "        <td>c</td>\n",
       "        <td>45</td>\n",
       "        <td>1</td>\n",
       "        <td>c</td>\n",
       "        <td>134</td>\n",
       "        <td>1</td>\n",
       "        <td>112</td>\n",
       "    </tr>\n",
       "    <tr>\n",
       "        <td>2</td>\n",
       "        <td>c</td>\n",
       "        <td>45</td>\n",
       "        <td>4</td>\n",
       "        <td>c</td>\n",
       "        <td>115</td>\n",
       "        <td>2</td>\n",
       "        <td>62</td>\n",
       "    </tr>\n",
       "    <tr>\n",
       "        <td>2</td>\n",
       "        <td>c</td>\n",
       "        <td>45</td>\n",
       "        <td>6</td>\n",
       "        <td>c</td>\n",
       "        <td>169</td>\n",
       "        <td>3</td>\n",
       "        <td>128</td>\n",
       "    </tr>\n",
       "    <tr>\n",
       "        <td>2</td>\n",
       "        <td>c</td>\n",
       "        <td>45</td>\n",
       "        <td>7</td>\n",
       "        <td>c</td>\n",
       "        <td>117</td>\n",
       "        <td>4</td>\n",
       "        <td>74</td>\n",
       "    </tr>\n",
       "</table>"
      ],
      "text/plain": [
       "[(0, 'a', 23, 0, 'a', 164, 1, 129),\n",
       " (0, 'a', 23, 2, 'a', 135, 2, 98),\n",
       " (0, 'a', 23, 5, 'a', 96, 3, 65),\n",
       " (0, 'a', 23, 8, 'a', 87, 4, 39),\n",
       " (0, 'a', 23, 9, 'a', 119, 5, 94),\n",
       " (1, 'b', 34, 3, 'b', 118, 1, 74),\n",
       " (1, 'b', 34, 10, 'b', 126, 2, 72),\n",
       " (1, 'b', 34, 11, 'b', 107, 3, 64),\n",
       " (2, 'c', 45, 1, 'c', 134, 1, 112),\n",
       " (2, 'c', 45, 4, 'c', 115, 2, 62),\n",
       " (2, 'c', 45, 6, 'c', 169, 3, 128),\n",
       " (2, 'c', 45, 7, 'c', 117, 4, 74)]"
      ]
     },
     "execution_count": 12,
     "metadata": {},
     "output_type": "execute_result"
    }
   ],
   "source": [
    "%%sql\n",
    "\n",
    "SELECT * \n",
    "FROM patients INNER JOIN readings ON patients.pid=readings.pid;"
   ]
  },
  {
   "cell_type": "code",
   "execution_count": 13,
   "metadata": {},
   "outputs": [
    {
     "name": "stdout",
     "output_type": "stream",
     "text": [
      " * sqlite:///tables.db\n",
      "Done.\n"
     ]
    },
    {
     "data": {
      "text/html": [
       "<table>\n",
       "    <tr>\n",
       "        <th>pid</th>\n",
       "        <th>AVG(sbp)</th>\n",
       "        <th>AVG(dbp)</th>\n",
       "    </tr>\n",
       "    <tr>\n",
       "        <td>b</td>\n",
       "        <td>117.0</td>\n",
       "        <td>70.0</td>\n",
       "    </tr>\n",
       "    <tr>\n",
       "        <td>a</td>\n",
       "        <td>120.2</td>\n",
       "        <td>85.0</td>\n",
       "    </tr>\n",
       "    <tr>\n",
       "        <td>c</td>\n",
       "        <td>133.75</td>\n",
       "        <td>94.0</td>\n",
       "    </tr>\n",
       "</table>"
      ],
      "text/plain": [
       "[('b', 117.0, 70.0), ('a', 120.2, 85.0), ('c', 133.75, 94.0)]"
      ]
     },
     "execution_count": 13,
     "metadata": {},
     "output_type": "execute_result"
    }
   ],
   "source": [
    "%%sql\n",
    "SELECT pid,AVG(sbp),AVG(dbp) \n",
    "FROM readings\n",
    "GROUP BY pid\n",
    "ORDER BY AVG(sbp);"
   ]
  },
  {
   "cell_type": "code",
   "execution_count": 14,
   "metadata": {},
   "outputs": [
    {
     "name": "stdout",
     "output_type": "stream",
     "text": [
      " * sqlite:///tables.db\n",
      "(sqlite3.OperationalError) near \"win\": syntax error [SQL: 'SELECT pid,visit,sbp,\\n        AVG(sbp) OVER win AS running average of sbp\\nFROM readings\\nWINDOW win AS (PARTITION BY pid ORDER BY visit);'] (Background on this error at: http://sqlalche.me/e/e3q8)\n"
     ]
    }
   ],
   "source": [
    "%%sql\n",
    "\n",
    "SELECT pid,visit,sbp,\n",
    "        AVG(sbp) OVER win AS running average of sbp\n",
    "FROM readings\n",
    "WINDOW win AS (PARTITION BY pid ORDER BY visit);"
   ]
  },
  {
   "cell_type": "markdown",
   "metadata": {},
   "source": [
    "**2**. (30 points)\n",
    "\n",
    "- Use a raw count bag of words model for unigrams and bigrams to generate feature vectors for these two documents. For simplicity, you may tokenize by removing punctuation, splitting by white space to find words, and converting all words to lowercase. \n",
    "- Implement a function to calculate cosine *similarity* between two vectors without using any trigonometric functions, built-in distance functions or linear algebra modules. Find the cosine similarity between the two documents. Recall that the cosine similarity is the dot product of two unit vectors.\n",
    "\n",
    "Only use the Python standard library and `numpy` to do this exercise."
   ]
  },
  {
   "cell_type": "code",
   "execution_count": 15,
   "metadata": {},
   "outputs": [],
   "source": [
    "doc1 = \"\"\"As I was going by Charing Cross,\n",
    "I saw a black man upon a black horse;\n",
    "They told me it was King Charles the First-\n",
    "Oh dear, my heart was ready to burst!\"\"\"\n",
    "\n",
    "doc2 = \"\"\"As I was going to St. Ives,\n",
    "I met a man with seven wives,\n",
    "Each wife had seven sacks,\n",
    "Each sack had seven cats,\n",
    "Each cat had seven kits:\n",
    "Kits, cats, sacks, and wives,\n",
    "How many were there going to St. Ives\"\"\""
   ]
  },
  {
   "cell_type": "code",
   "execution_count": 16,
   "metadata": {},
   "outputs": [],
   "source": [
    "def unigram(doc):\n",
    "    ans=[]\n",
    "    for word in doc.lower().split():\n",
    "        ans.append(word.strip(', ;-!.:'))\n",
    "    return ans"
   ]
  },
  {
   "cell_type": "code",
   "execution_count": 17,
   "metadata": {},
   "outputs": [],
   "source": [
    "doc1_word=unigram(doc1)\n",
    "doc2_word=unigram(doc2)"
   ]
  },
  {
   "cell_type": "code",
   "execution_count": 18,
   "metadata": {},
   "outputs": [],
   "source": [
    "def vectorize(doc1_word,doc2_word):\n",
    "    words=list(set(doc1_word+doc2_word))\n",
    "    n=len(words)\n",
    "    vec1=np.zeros(n)\n",
    "    vec2=np.zeros(n)\n",
    "    for i in range(n):\n",
    "        vec1[i]=doc1_word.count(words[i])\n",
    "        vec2[i]=doc2_word.count(words[i])\n",
    "    return vec1,vec2"
   ]
  },
  {
   "cell_type": "code",
   "execution_count": 19,
   "metadata": {},
   "outputs": [],
   "source": [
    "def cosine_distance(vec1,vec2):\n",
    "    return np.sum(vec1*vec2)/((np.sum(vec1**2)**0.5)*np.sum(vec2**2)**0.5)"
   ]
  },
  {
   "cell_type": "code",
   "execution_count": 20,
   "metadata": {},
   "outputs": [
    {
     "data": {
      "text/plain": [
       "0.2439750182371333"
      ]
     },
     "execution_count": 20,
     "metadata": {},
     "output_type": "execute_result"
    }
   ],
   "source": [
    "vec1_unigram=vectorize(doc1_word,doc2_word)[0]\n",
    "vec2_unigram=vectorize(doc1_word,doc2_word)[1]\n",
    "cosine_distance(vec1_unigram,vec2_unigram)"
   ]
  },
  {
   "cell_type": "code",
   "execution_count": 21,
   "metadata": {},
   "outputs": [],
   "source": [
    "def bigram(unigrams):\n",
    "    ans=[]\n",
    "    for i in range(len(unigrams)-1):\n",
    "        ans.append(unigrams[i]+' '+unigrams[i+1])\n",
    "    return ans"
   ]
  },
  {
   "cell_type": "code",
   "execution_count": 22,
   "metadata": {},
   "outputs": [
    {
     "data": {
      "text/plain": [
       "0.07067142711473183"
      ]
     },
     "execution_count": 22,
     "metadata": {},
     "output_type": "execute_result"
    }
   ],
   "source": [
    "doc1_bi=bigram(doc1_word)\n",
    "doc2_bi=bigram(doc2_word)\n",
    "vec1_bigram=vectorize(doc1_bi,doc2_bi)[0]\n",
    "vec2_bigram=vectorize(doc1_bi,doc2_bi)[1]\n",
    "cosine_distance(vec1_bigram,vec2_bigram)"
   ]
  },
  {
   "cell_type": "markdown",
   "metadata": {},
   "source": [
    "**3**. (30 points)\n",
    "\n",
    "- Fit polynomials of order 2, 3 and 4 to the data set `x` and `y` by solving the normal equations $(X^TX) \\hat{\\beta} = X^Ty$. \n",
    "- Plot the fit against the data for each model.\n",
    "- Calculate the sum of squares error for each model using leave one out cross-validation.\n",
    "\n",
    "You may use `numpy.linalg` for this."
   ]
  },
  {
   "cell_type": "code",
   "execution_count": 23,
   "metadata": {},
   "outputs": [],
   "source": [
    "x = np.array([4.17022005e+00, 7.20324493e+00, 1.14374817e-03, 3.02332573e+00,\n",
    "       1.46755891e+00, 9.23385948e-01, 1.86260211e+00, 3.45560727e+00,\n",
    "       3.96767474e+00, 5.38816734e+00])\n",
    "y = np.array([29.05627699, 22.38450486,  3.33047527, 23.84338844, 16.98396787,\n",
    "        9.32107716, 17.8343173 , 25.23079674, 28.068074  , 26.74943485])"
   ]
  },
  {
   "cell_type": "code",
   "execution_count": 24,
   "metadata": {},
   "outputs": [
    {
     "data": {
      "text/plain": [
       "array([ 2.48779865, 10.49340176, -1.07498928])"
      ]
     },
     "execution_count": 24,
     "metadata": {},
     "output_type": "execute_result"
    }
   ],
   "source": [
    "#order 2\n",
    "import numpy.linalg as la\n",
    "x2=np.c_[np.ones(len(x)),x,x**2]\n",
    "beta2=la.solve((x2.T@x2),(x2.T@y))\n",
    "beta2"
   ]
  },
  {
   "cell_type": "code",
   "execution_count": 25,
   "metadata": {},
   "outputs": [
    {
     "data": {
      "text/plain": [
       "<Figure size 640x480 with 1 Axes>"
      ]
     },
     "metadata": {},
     "output_type": "display_data"
    }
   ],
   "source": [
    "import matplotlib.pyplot as plt\n",
    "plt.figure()\n",
    "plt.scatter(x,y)\n",
    "x2_plot = np.linspace(-2, 10, 100)\n",
    "y2_plot = beta2[0]+beta2[1]*x2_plot+beta2[2]*x2_plot**2\n",
    "plt.plot(x2_plot,y2_plot)\n",
    "plt.show()"
   ]
  },
  {
   "cell_type": "code",
   "execution_count": 26,
   "metadata": {},
   "outputs": [],
   "source": [
    "def sumSquareError(x,y,order):\n",
    "    ans=0\n",
    "    for i in range(len(x)):\n",
    "        tempx =np.delete(x,i)\n",
    "        tempy =np.delete(y,i)\n",
    "        xPoly = np.c_[np.ones(len(tempx)),tempx]\n",
    "        test_x = np.c_[np.ones(1),x[i]]\n",
    "        for o in range(2,order+1):\n",
    "            xPoly = np.c_[xPoly,tempx**o]\n",
    "            test_x = np.c_[test_x,x[i]**o]\n",
    "        beta=la.solve((xPoly.T@xPoly),(xPoly.T@tempy))\n",
    "        #print(beta)\n",
    "        #print(test_x.shape)\n",
    "        y_pred=test_x@beta\n",
    "        ans+=(y_pred-y[i])**2\n",
    "    return ans[0]"
   ]
  },
  {
   "cell_type": "code",
   "execution_count": 27,
   "metadata": {},
   "outputs": [
    {
     "data": {
      "text/plain": [
       "22.22130709444697"
      ]
     },
     "execution_count": 27,
     "metadata": {},
     "output_type": "execute_result"
    }
   ],
   "source": [
    "sumSquareError(x,y,2)"
   ]
  },
  {
   "cell_type": "code",
   "execution_count": 28,
   "metadata": {},
   "outputs": [
    {
     "data": {
      "text/plain": [
       "array([ 2.75572438,  9.92576392, -0.86830902, -0.01892285])"
      ]
     },
     "execution_count": 28,
     "metadata": {},
     "output_type": "execute_result"
    }
   ],
   "source": [
    "#order 3\n",
    "x3=np.c_[np.ones(len(x)),x,x**2,x**3]\n",
    "beta3=la.solve((x3.T@x3),(x3.T@y))\n",
    "beta3"
   ]
  },
  {
   "cell_type": "code",
   "execution_count": 29,
   "metadata": {},
   "outputs": [
    {
     "data": {
      "image/png": "[encoded data removed]",
      "text/plain": [
       "<Figure size 432x288 with 1 Axes>"
      ]
     },
     "metadata": {},
     "output_type": "display_data"
    }
   ],
   "source": [
    "plt.figure()\n",
    "plt.scatter(x,y)\n",
    "x3_plot = np.linspace(-2, 10, 100)\n",
    "y3_plot = beta3[0]+beta3[1]*x3_plot+beta3[2]*x3_plot**2+beta3[3]*x3_plot**3\n",
    "plt.plot(x3_plot,y3_plot)\n",
    "plt.show()"
   ]
  },
  {
   "cell_type": "code",
   "execution_count": 30,
   "metadata": {},
   "outputs": [
    {
     "data": {
      "text/plain": [
       "119.6352158884665"
      ]
     },
     "execution_count": 30,
     "metadata": {},
     "output_type": "execute_result"
    }
   ],
   "source": [
    "sumSquareError(x,y,3)"
   ]
  },
  {
   "cell_type": "code",
   "execution_count": 31,
   "metadata": {},
   "outputs": [
    {
     "data": {
      "text/plain": [
       "array([ 3.15172574,  7.80914918,  0.72437425, -0.39690615,  0.027373  ])"
      ]
     },
     "execution_count": 31,
     "metadata": {},
     "output_type": "execute_result"
    }
   ],
   "source": [
    "#order 4\n",
    "x4=np.c_[np.ones(len(x)),x,x**2,x**3,x**4]\n",
    "beta4=la.solve((x4.T@x4),(x4.T@y))\n",
    "beta4"
   ]
  },
  {
   "cell_type": "code",
   "execution_count": 32,
   "metadata": {},
   "outputs": [
    {
     "data": {
      "image/png": "[encoded data removed]",
      "text/plain": [
       "<Figure size 432x288 with 1 Axes>"
      ]
     },
     "metadata": {},
     "output_type": "display_data"
    }
   ],
   "source": [
    "plt.figure()\n",
    "plt.scatter(x,y)\n",
    "x4_plot = np.linspace(-2, 10, 100)\n",
    "y4_plot = beta4[0]+beta4[1]*x4_plot+beta4[2]*x4_plot**2+beta4[3]*x4_plot**3+beta4[4]*x4_plot**4\n",
    "plt.plot(x4_plot,y4_plot)\n",
    "plt.show()"
   ]
  },
  {
   "cell_type": "code",
   "execution_count": 33,
   "metadata": {},
   "outputs": [
    {
     "data": {
      "text/plain": [
       "510.60567208697984"
      ]
     },
     "execution_count": 33,
     "metadata": {},
     "output_type": "execute_result"
    }
   ],
   "source": [
    "sumSquareError(x,y,4)"
   ]
  },
  {
   "cell_type": "markdown",
   "metadata": {},
   "source": [
    "**4** (20 points)\n",
    "\n",
    "- Write a gradient descent algorithm to fit a cubic polynomial to the data from question 5. Use a learning rate of 1e-5 and 1 million iterations, and start with a $\\beta_0 = (1,10,1,1)$\n",
    "- Use a JIT decorator to create a compiled version and report the fold-change improvement in run time. Use the timeit.timeit function with argument `number=1`, and use a lambda function to pass in a function that takes 0 arguments.\n",
    "- Plot the fitted curve"
   ]
  },
  {
   "cell_type": "code",
   "execution_count": 34,
   "metadata": {},
   "outputs": [],
   "source": [
    "def gradientDescent(beta,X,y,learning_rate,iterations,m):\n",
    "    for i in range(iterations):\n",
    "        y_model = X@beta\n",
    "        error = y_model-y\n",
    "        gradient = (X.T@error)/m\n",
    "        beta -= gradient*learning_rate\n",
    "    return beta"
   ]
  },
  {
   "cell_type": "code",
   "execution_count": 35,
   "metadata": {},
   "outputs": [
    {
     "data": {
      "text/plain": [
       "array([ 2.50376948, 10.21338542, -0.95116202, -0.01223664])"
      ]
     },
     "execution_count": 35,
     "metadata": {},
     "output_type": "execute_result"
    }
   ],
   "source": [
    "beta=(1,10,1,1)\n",
    "learning_rate=1e-5\n",
    "iterations=1000000\n",
    "X=np.c_[np.ones(len(x)),x,x**2,x**3]\n",
    "m=len(x)\n",
    "coeff = gradientDescent(beta,X,y,learning_rate,iterations,m)\n",
    "coeff"
   ]
  },
  {
   "cell_type": "code",
   "execution_count": 36,
   "metadata": {},
   "outputs": [],
   "source": [
    "from numba import jit\n",
    "import timeit\n",
    "@jit()\n",
    "def gradientDescent_j(beta,X,y,learning_rate,iterations,m):\n",
    "    for i in range(iterations):\n",
    "        y_model = X@beta\n",
    "        error = y_model-y\n",
    "        gradient = (X.T@error)/m\n",
    "        beta -= gradient*learning_rate\n",
    "    return beta"
   ]
  },
  {
   "cell_type": "code",
   "execution_count": 54,
   "metadata": {},
   "outputs": [
    {
     "name": "stdout",
     "output_type": "stream",
     "text": [
      "6.031384616158903\n",
      "5.868742826394737\n"
     ]
    }
   ],
   "source": [
    "if __name__=='__main__':\n",
    "    from timeit import Timer\n",
    "    t = Timer(lambda: gradientDescent(beta,X,y,learning_rate,iterations,m))\n",
    "    print (t.timeit(number=1))\n",
    "    tj = Timer(lambda: gradientDescent_j(beta,X,y,learning_rate,iterations,m))\n",
    "    print (tj.timeit(number=1))"
   ]
  },
  {
   "cell_type": "code",
   "execution_count": 38,
   "metadata": {},
   "outputs": [
    {
     "data": {
      "image/png": "[encoded data removed]",
      "text/plain": [
       "<Figure size 432x288 with 1 Axes>"
      ]
     },
     "metadata": {},
     "output_type": "display_data"
    }
   ],
   "source": [
    "plt.figure()\n",
    "plt.scatter(x,y)\n",
    "x5_plot = np.linspace(-2, 10, 100)\n",
    "y5_plot = coeff[0]+coeff[1]*x5_plot+coeff[2]*x5_plot**2+coeff[3]*x5_plot**3\n",
    "plt.plot(x3_plot,y3_plot)\n",
    "plt.show()"
   ]
  }
 ],
 "metadata": {
  "kernelspec": {
   "display_name": "Python 3",
   "language": "python",
   "name": "python3"
  },
  "language_info": {
   "codemirror_mode": {
    "name": "ipython",
    "version": 3
   },
   "file_extension": ".py",
   "mimetype": "text/x-python",
   "name": "python",
   "nbconvert_exporter": "python",
   "pygments_lexer": "ipython3",
   "version": "3.5.4"
  }
 },
 "nbformat": 4,
 "nbformat_minor": 2
}
